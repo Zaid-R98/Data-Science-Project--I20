{
 "cells": [
  {
   "cell_type": "code",
   "execution_count": 1072,
   "metadata": {},
   "outputs": [],
   "source": [
    "import pandas as pd\n",
    "import numpy as np\n",
    "import random as rd\n",
    "import matplotlib.pyplot as plt\n",
    "%matplotlib inline\n",
    "import os\n",
    "os.chdir(\"/Volumes/General Har/Data_Sets/rpcsv\")"
   ]
  },
  {
   "cell_type": "code",
   "execution_count": 1073,
   "metadata": {},
   "outputs": [],
   "source": [
    "ds = pd.read_csv('hospital_patients.csv')"
   ]
  },
  {
   "cell_type": "code",
   "execution_count": 1074,
   "metadata": {},
   "outputs": [
    {
     "data": {
      "text/plain": [
       "0                 encounter_id\n",
       "1                  patient_nbr\n",
       "2                         race\n",
       "3                       gender\n",
       "4                          age\n",
       "5                       weight\n",
       "6            admission_type_id\n",
       "7     discharge_disposition_id\n",
       "8          admission_source_id\n",
       "9             time_in_hospital\n",
       "10                  payer_code\n",
       "11           medical_specialty\n",
       "12          num_lab_procedures\n",
       "13              num_procedures\n",
       "14             num_medications\n",
       "15           number_outpatient\n",
       "16            number_emergency\n",
       "17            number_inpatient\n",
       "18                      diag_1\n",
       "19                      diag_2\n",
       "20                      diag_3\n",
       "21            number_diagnoses\n",
       "22               max_glu_serum\n",
       "23                   A1Cresult\n",
       "24                   metformin\n",
       "25                 repaglinide\n",
       "26                 nateglinide\n",
       "27              chlorpropamide\n",
       "28                 glimepiride\n",
       "29               acetohexamide\n",
       "30                   glipizide\n",
       "31                   glyburide\n",
       "32                 tolbutamide\n",
       "33                pioglitazone\n",
       "34               rosiglitazone\n",
       "35                    acarbose\n",
       "36                    miglitol\n",
       "37                troglitazone\n",
       "38                  tolazamide\n",
       "39                     examide\n",
       "40                 citoglipton\n",
       "41                     insulin\n",
       "42         glyburide-metformin\n",
       "43         glipizide-metformin\n",
       "44    glimepiride-pioglitazone\n",
       "45     metformin-rosiglitazone\n",
       "46      metformin-pioglitazone\n",
       "47                      change\n",
       "48                 diabetesMed\n",
       "49                  readmitted\n",
       "dtype: object"
      ]
     },
     "execution_count": 1074,
     "metadata": {},
     "output_type": "execute_result"
    }
   ],
   "source": [
    "pd.Series(ds.columns)"
   ]
  },
  {
   "cell_type": "code",
   "execution_count": 1075,
   "metadata": {},
   "outputs": [],
   "source": [
    "final_list=['age','time_in_hospital','num_medications','number_diagnoses','metformin',\n",
    "           'chlorpropamide','glimepiride','tolazamide','insulin','race','admission_type_id',\n",
    "           'admission_source_id','max_glu_serum','A1Cresult','readmitted']"
   ]
  },
  {
   "cell_type": "code",
   "execution_count": 1076,
   "metadata": {},
   "outputs": [
    {
     "data": {
      "text/plain": [
       "15"
      ]
     },
     "execution_count": 1076,
     "metadata": {},
     "output_type": "execute_result"
    }
   ],
   "source": [
    "len(final_list)"
   ]
  },
  {
   "cell_type": "code",
   "execution_count": 1077,
   "metadata": {},
   "outputs": [],
   "source": [
    "ds=ds[final_list]"
   ]
  },
  {
   "cell_type": "code",
   "execution_count": 1078,
   "metadata": {},
   "outputs": [
    {
     "data": {
      "text/html": [
       "<div>\n",
       "<style scoped>\n",
       "    .dataframe tbody tr th:only-of-type {\n",
       "        vertical-align: middle;\n",
       "    }\n",
       "\n",
       "    .dataframe tbody tr th {\n",
       "        vertical-align: top;\n",
       "    }\n",
       "\n",
       "    .dataframe thead th {\n",
       "        text-align: right;\n",
       "    }\n",
       "</style>\n",
       "<table border=\"1\" class=\"dataframe\">\n",
       "  <thead>\n",
       "    <tr style=\"text-align: right;\">\n",
       "      <th></th>\n",
       "      <th>age</th>\n",
       "      <th>time_in_hospital</th>\n",
       "      <th>num_medications</th>\n",
       "      <th>number_diagnoses</th>\n",
       "      <th>metformin</th>\n",
       "      <th>chlorpropamide</th>\n",
       "      <th>glimepiride</th>\n",
       "      <th>tolazamide</th>\n",
       "      <th>insulin</th>\n",
       "      <th>race</th>\n",
       "      <th>admission_type_id</th>\n",
       "      <th>admission_source_id</th>\n",
       "      <th>max_glu_serum</th>\n",
       "      <th>A1Cresult</th>\n",
       "      <th>readmitted</th>\n",
       "    </tr>\n",
       "  </thead>\n",
       "  <tbody>\n",
       "    <tr>\n",
       "      <th>0</th>\n",
       "      <td>[0-10)</td>\n",
       "      <td>1</td>\n",
       "      <td>1</td>\n",
       "      <td>1</td>\n",
       "      <td>No</td>\n",
       "      <td>No</td>\n",
       "      <td>No</td>\n",
       "      <td>No</td>\n",
       "      <td>No</td>\n",
       "      <td>Caucasian</td>\n",
       "      <td>6</td>\n",
       "      <td>1</td>\n",
       "      <td>None</td>\n",
       "      <td>None</td>\n",
       "      <td>NO</td>\n",
       "    </tr>\n",
       "    <tr>\n",
       "      <th>1</th>\n",
       "      <td>[10-20)</td>\n",
       "      <td>3</td>\n",
       "      <td>18</td>\n",
       "      <td>9</td>\n",
       "      <td>No</td>\n",
       "      <td>No</td>\n",
       "      <td>No</td>\n",
       "      <td>No</td>\n",
       "      <td>Up</td>\n",
       "      <td>Caucasian</td>\n",
       "      <td>1</td>\n",
       "      <td>7</td>\n",
       "      <td>None</td>\n",
       "      <td>None</td>\n",
       "      <td>&gt;30</td>\n",
       "    </tr>\n",
       "    <tr>\n",
       "      <th>2</th>\n",
       "      <td>[20-30)</td>\n",
       "      <td>2</td>\n",
       "      <td>13</td>\n",
       "      <td>6</td>\n",
       "      <td>No</td>\n",
       "      <td>No</td>\n",
       "      <td>No</td>\n",
       "      <td>No</td>\n",
       "      <td>No</td>\n",
       "      <td>AfricanAmerican</td>\n",
       "      <td>1</td>\n",
       "      <td>7</td>\n",
       "      <td>None</td>\n",
       "      <td>None</td>\n",
       "      <td>NO</td>\n",
       "    </tr>\n",
       "    <tr>\n",
       "      <th>3</th>\n",
       "      <td>[30-40)</td>\n",
       "      <td>2</td>\n",
       "      <td>16</td>\n",
       "      <td>7</td>\n",
       "      <td>No</td>\n",
       "      <td>No</td>\n",
       "      <td>No</td>\n",
       "      <td>No</td>\n",
       "      <td>Up</td>\n",
       "      <td>Caucasian</td>\n",
       "      <td>1</td>\n",
       "      <td>7</td>\n",
       "      <td>None</td>\n",
       "      <td>None</td>\n",
       "      <td>NO</td>\n",
       "    </tr>\n",
       "    <tr>\n",
       "      <th>4</th>\n",
       "      <td>[40-50)</td>\n",
       "      <td>1</td>\n",
       "      <td>8</td>\n",
       "      <td>5</td>\n",
       "      <td>No</td>\n",
       "      <td>No</td>\n",
       "      <td>No</td>\n",
       "      <td>No</td>\n",
       "      <td>Steady</td>\n",
       "      <td>Caucasian</td>\n",
       "      <td>1</td>\n",
       "      <td>7</td>\n",
       "      <td>None</td>\n",
       "      <td>None</td>\n",
       "      <td>NO</td>\n",
       "    </tr>\n",
       "    <tr>\n",
       "      <th>...</th>\n",
       "      <td>...</td>\n",
       "      <td>...</td>\n",
       "      <td>...</td>\n",
       "      <td>...</td>\n",
       "      <td>...</td>\n",
       "      <td>...</td>\n",
       "      <td>...</td>\n",
       "      <td>...</td>\n",
       "      <td>...</td>\n",
       "      <td>...</td>\n",
       "      <td>...</td>\n",
       "      <td>...</td>\n",
       "      <td>...</td>\n",
       "      <td>...</td>\n",
       "      <td>...</td>\n",
       "    </tr>\n",
       "    <tr>\n",
       "      <th>101761</th>\n",
       "      <td>[70-80)</td>\n",
       "      <td>3</td>\n",
       "      <td>16</td>\n",
       "      <td>9</td>\n",
       "      <td>Steady</td>\n",
       "      <td>No</td>\n",
       "      <td>No</td>\n",
       "      <td>No</td>\n",
       "      <td>Down</td>\n",
       "      <td>AfricanAmerican</td>\n",
       "      <td>1</td>\n",
       "      <td>7</td>\n",
       "      <td>None</td>\n",
       "      <td>&gt;8</td>\n",
       "      <td>&gt;30</td>\n",
       "    </tr>\n",
       "    <tr>\n",
       "      <th>101762</th>\n",
       "      <td>[80-90)</td>\n",
       "      <td>5</td>\n",
       "      <td>18</td>\n",
       "      <td>9</td>\n",
       "      <td>No</td>\n",
       "      <td>No</td>\n",
       "      <td>No</td>\n",
       "      <td>No</td>\n",
       "      <td>Steady</td>\n",
       "      <td>AfricanAmerican</td>\n",
       "      <td>1</td>\n",
       "      <td>5</td>\n",
       "      <td>None</td>\n",
       "      <td>None</td>\n",
       "      <td>NO</td>\n",
       "    </tr>\n",
       "    <tr>\n",
       "      <th>101763</th>\n",
       "      <td>[70-80)</td>\n",
       "      <td>1</td>\n",
       "      <td>9</td>\n",
       "      <td>13</td>\n",
       "      <td>Steady</td>\n",
       "      <td>No</td>\n",
       "      <td>No</td>\n",
       "      <td>No</td>\n",
       "      <td>Down</td>\n",
       "      <td>Caucasian</td>\n",
       "      <td>1</td>\n",
       "      <td>7</td>\n",
       "      <td>None</td>\n",
       "      <td>None</td>\n",
       "      <td>NO</td>\n",
       "    </tr>\n",
       "    <tr>\n",
       "      <th>101764</th>\n",
       "      <td>[80-90)</td>\n",
       "      <td>10</td>\n",
       "      <td>21</td>\n",
       "      <td>9</td>\n",
       "      <td>No</td>\n",
       "      <td>No</td>\n",
       "      <td>No</td>\n",
       "      <td>No</td>\n",
       "      <td>Up</td>\n",
       "      <td>Caucasian</td>\n",
       "      <td>2</td>\n",
       "      <td>7</td>\n",
       "      <td>None</td>\n",
       "      <td>None</td>\n",
       "      <td>NO</td>\n",
       "    </tr>\n",
       "    <tr>\n",
       "      <th>101765</th>\n",
       "      <td>[70-80)</td>\n",
       "      <td>6</td>\n",
       "      <td>3</td>\n",
       "      <td>9</td>\n",
       "      <td>No</td>\n",
       "      <td>No</td>\n",
       "      <td>No</td>\n",
       "      <td>No</td>\n",
       "      <td>No</td>\n",
       "      <td>Caucasian</td>\n",
       "      <td>1</td>\n",
       "      <td>7</td>\n",
       "      <td>None</td>\n",
       "      <td>None</td>\n",
       "      <td>NO</td>\n",
       "    </tr>\n",
       "  </tbody>\n",
       "</table>\n",
       "<p>101766 rows × 15 columns</p>\n",
       "</div>"
      ],
      "text/plain": [
       "            age  time_in_hospital  num_medications  number_diagnoses  \\\n",
       "0        [0-10)                 1                1                 1   \n",
       "1       [10-20)                 3               18                 9   \n",
       "2       [20-30)                 2               13                 6   \n",
       "3       [30-40)                 2               16                 7   \n",
       "4       [40-50)                 1                8                 5   \n",
       "...         ...               ...              ...               ...   \n",
       "101761  [70-80)                 3               16                 9   \n",
       "101762  [80-90)                 5               18                 9   \n",
       "101763  [70-80)                 1                9                13   \n",
       "101764  [80-90)                10               21                 9   \n",
       "101765  [70-80)                 6                3                 9   \n",
       "\n",
       "       metformin chlorpropamide glimepiride tolazamide insulin  \\\n",
       "0             No             No          No         No      No   \n",
       "1             No             No          No         No      Up   \n",
       "2             No             No          No         No      No   \n",
       "3             No             No          No         No      Up   \n",
       "4             No             No          No         No  Steady   \n",
       "...          ...            ...         ...        ...     ...   \n",
       "101761    Steady             No          No         No    Down   \n",
       "101762        No             No          No         No  Steady   \n",
       "101763    Steady             No          No         No    Down   \n",
       "101764        No             No          No         No      Up   \n",
       "101765        No             No          No         No      No   \n",
       "\n",
       "                   race  admission_type_id  admission_source_id max_glu_serum  \\\n",
       "0             Caucasian                  6                    1          None   \n",
       "1             Caucasian                  1                    7          None   \n",
       "2       AfricanAmerican                  1                    7          None   \n",
       "3             Caucasian                  1                    7          None   \n",
       "4             Caucasian                  1                    7          None   \n",
       "...                 ...                ...                  ...           ...   \n",
       "101761  AfricanAmerican                  1                    7          None   \n",
       "101762  AfricanAmerican                  1                    5          None   \n",
       "101763        Caucasian                  1                    7          None   \n",
       "101764        Caucasian                  2                    7          None   \n",
       "101765        Caucasian                  1                    7          None   \n",
       "\n",
       "       A1Cresult readmitted  \n",
       "0           None         NO  \n",
       "1           None        >30  \n",
       "2           None         NO  \n",
       "3           None         NO  \n",
       "4           None         NO  \n",
       "...          ...        ...  \n",
       "101761        >8        >30  \n",
       "101762      None         NO  \n",
       "101763      None         NO  \n",
       "101764      None         NO  \n",
       "101765      None         NO  \n",
       "\n",
       "[101766 rows x 15 columns]"
      ]
     },
     "execution_count": 1078,
     "metadata": {},
     "output_type": "execute_result"
    }
   ],
   "source": [
    "ds"
   ]
  },
  {
   "cell_type": "code",
   "execution_count": 1079,
   "metadata": {},
   "outputs": [],
   "source": [
    "ds['age'] = ds['age'].replace('[70-80)', '70-80')\n",
    "ds['age'] = ds['age'].replace('[60-70)', '60-70')\n",
    "ds['age'] = ds['age'].replace('[50-60)', '50-60')\n",
    "ds['age'] = ds['age'].replace('[0-10)', '0-10')\n",
    "\n",
    "ds['age'] = ds['age'].replace('[80-90)', '80-90')\n",
    "ds['age'] = ds['age'].replace('[40-50)', '40-50')\n",
    "ds['age'] = ds['age'].replace('[30-40)', '30-40')\n",
    "\n",
    "ds['age'] = ds['age'].replace('[90-100)', '90-100')\n",
    "ds['age'] = ds['age'].replace('[20-30)', '20-30')\n",
    "ds['age'] = ds['age'].replace('[10-20)', '10-20')"
   ]
  },
  {
   "cell_type": "code",
   "execution_count": 1080,
   "metadata": {},
   "outputs": [
    {
     "data": {
      "text/plain": [
       "age                    object\n",
       "time_in_hospital        int64\n",
       "num_medications         int64\n",
       "number_diagnoses        int64\n",
       "metformin              object\n",
       "chlorpropamide         object\n",
       "glimepiride            object\n",
       "tolazamide             object\n",
       "insulin                object\n",
       "race                   object\n",
       "admission_type_id       int64\n",
       "admission_source_id     int64\n",
       "max_glu_serum          object\n",
       "A1Cresult              object\n",
       "readmitted             object\n",
       "dtype: object"
      ]
     },
     "execution_count": 1080,
     "metadata": {},
     "output_type": "execute_result"
    }
   ],
   "source": [
    "ds.dtypes"
   ]
  },
  {
   "cell_type": "code",
   "execution_count": 1081,
   "metadata": {},
   "outputs": [
    {
     "data": {
      "text/plain": [
       "age                    0\n",
       "time_in_hospital       0\n",
       "num_medications        0\n",
       "number_diagnoses       0\n",
       "metformin              0\n",
       "chlorpropamide         0\n",
       "glimepiride            0\n",
       "tolazamide             0\n",
       "insulin                0\n",
       "race                   0\n",
       "admission_type_id      0\n",
       "admission_source_id    0\n",
       "max_glu_serum          0\n",
       "A1Cresult              0\n",
       "readmitted             0\n",
       "dtype: int64"
      ]
     },
     "execution_count": 1081,
     "metadata": {},
     "output_type": "execute_result"
    }
   ],
   "source": [
    "ds.isna().sum()"
   ]
  },
  {
   "cell_type": "code",
   "execution_count": 1082,
   "metadata": {},
   "outputs": [],
   "source": [
    "cat_col=['age','metformin','chlorpropamide','glimepiride','tolazamide','insulin','race',\n",
    "        'max_glu_serum','A1Cresult','admission_type_id'\n",
    "         ,'admission_source_id']"
   ]
  },
  {
   "cell_type": "code",
   "execution_count": 1083,
   "metadata": {},
   "outputs": [
    {
     "name": "stdout",
     "output_type": "stream",
     "text": [
      "70-80     26068\n",
      "60-70     22483\n",
      "50-60     17256\n",
      "80-90     17197\n",
      "40-50      9685\n",
      "30-40      3775\n",
      "90-100     2793\n",
      "20-30      1657\n",
      "10-20       691\n",
      "0-10        161\n",
      "Name: age, dtype: int64\n",
      "No        81778\n",
      "Steady    18346\n",
      "Up         1067\n",
      "Down        575\n",
      "Name: metformin, dtype: int64\n",
      "No        101680\n",
      "Steady        79\n",
      "Up             6\n",
      "Down           1\n",
      "Name: chlorpropamide, dtype: int64\n",
      "No        96575\n",
      "Steady     4670\n",
      "Up          327\n",
      "Down        194\n",
      "Name: glimepiride, dtype: int64\n",
      "No        101727\n",
      "Steady        38\n",
      "Up             1\n",
      "Name: tolazamide, dtype: int64\n",
      "No        47383\n",
      "Steady    30849\n",
      "Down      12218\n",
      "Up        11316\n",
      "Name: insulin, dtype: int64\n",
      "Caucasian          76099\n",
      "AfricanAmerican    19210\n",
      "?                   2273\n",
      "Hispanic            2037\n",
      "Other               1506\n",
      "Asian                641\n",
      "Name: race, dtype: int64\n",
      "None    96420\n",
      "Norm     2597\n",
      ">200     1485\n",
      ">300     1264\n",
      "Name: max_glu_serum, dtype: int64\n",
      "None    84748\n",
      ">8       8216\n",
      "Norm     4990\n",
      ">7       3812\n",
      "Name: A1Cresult, dtype: int64\n",
      "1    53990\n",
      "3    18869\n",
      "2    18480\n",
      "6     5291\n",
      "5     4785\n",
      "8      320\n",
      "7       21\n",
      "4       10\n",
      "Name: admission_type_id, dtype: int64\n",
      "7     57494\n",
      "1     29565\n",
      "17     6781\n",
      "4      3187\n",
      "6      2264\n",
      "2      1104\n",
      "5       855\n",
      "3       187\n",
      "20      161\n",
      "9       125\n",
      "8        16\n",
      "22       12\n",
      "10        8\n",
      "11        2\n",
      "14        2\n",
      "25        2\n",
      "13        1\n",
      "Name: admission_source_id, dtype: int64\n"
     ]
    }
   ],
   "source": [
    "for ele in cat_col:\n",
    "    print(ds[ele].value_counts())\n"
   ]
  },
  {
   "cell_type": "code",
   "execution_count": 1084,
   "metadata": {},
   "outputs": [
    {
     "data": {
      "text/plain": [
       "age                    object\n",
       "time_in_hospital        int64\n",
       "num_medications         int64\n",
       "number_diagnoses        int64\n",
       "metformin              object\n",
       "chlorpropamide         object\n",
       "glimepiride            object\n",
       "tolazamide             object\n",
       "insulin                object\n",
       "race                   object\n",
       "admission_type_id       int64\n",
       "admission_source_id     int64\n",
       "max_glu_serum          object\n",
       "A1Cresult              object\n",
       "readmitted             object\n",
       "dtype: object"
      ]
     },
     "execution_count": 1084,
     "metadata": {},
     "output_type": "execute_result"
    }
   ],
   "source": [
    "ds.dtypes"
   ]
  },
  {
   "cell_type": "code",
   "execution_count": 1085,
   "metadata": {},
   "outputs": [],
   "source": [
    "num_cols=['time_in_hospital','num_medications','number_diagnoses']"
   ]
  },
  {
   "cell_type": "code",
   "execution_count": 1086,
   "metadata": {},
   "outputs": [
    {
     "name": "stdout",
     "output_type": "stream",
     "text": [
      "3     17756\n",
      "2     17224\n",
      "1     14208\n",
      "4     13924\n",
      "5      9966\n",
      "6      7539\n",
      "7      5859\n",
      "8      4391\n",
      "9      3002\n",
      "10     2342\n",
      "11     1855\n",
      "12     1448\n",
      "13     1210\n",
      "14     1042\n",
      "Name: time_in_hospital, dtype: int64\n",
      "13    6086\n",
      "12    6004\n",
      "11    5795\n",
      "15    5792\n",
      "14    5707\n",
      "      ... \n",
      "70       2\n",
      "75       2\n",
      "74       1\n",
      "79       1\n",
      "81       1\n",
      "Name: num_medications, Length: 75, dtype: int64\n",
      "9     49474\n",
      "5     11393\n",
      "8     10616\n",
      "7     10393\n",
      "6     10161\n",
      "4      5537\n",
      "3      2835\n",
      "2      1023\n",
      "1       219\n",
      "16       45\n",
      "10       17\n",
      "13       16\n",
      "11       11\n",
      "15       10\n",
      "12        9\n",
      "14        7\n",
      "Name: number_diagnoses, dtype: int64\n"
     ]
    }
   ],
   "source": [
    "for ele in num_cols:\n",
    "    print(ds[ele].value_counts())\n"
   ]
  },
  {
   "cell_type": "code",
   "execution_count": 1087,
   "metadata": {},
   "outputs": [],
   "source": [
    "#Now will Scale the numeric columns and will encode the categorical columns"
   ]
  },
  {
   "cell_type": "code",
   "execution_count": 1088,
   "metadata": {},
   "outputs": [],
   "source": [
    "from sklearn.preprocessing import MinMaxScaler, OneHotEncoder\n",
    "from sklearn.compose import make_column_transformer\n",
    "from sklearn.preprocessing import LabelEncoder"
   ]
  },
  {
   "cell_type": "code",
   "execution_count": 1089,
   "metadata": {},
   "outputs": [],
   "source": [
    "ds['readmitted'] = ds['readmitted'].replace('>30', 0)\n",
    "ds['readmitted'] = ds['readmitted'].replace('<30', 1)\n",
    "ds['readmitted'] = ds['readmitted'].replace('NO', 2)"
   ]
  },
  {
   "cell_type": "code",
   "execution_count": 1090,
   "metadata": {},
   "outputs": [],
   "source": [
    "X=ds.drop('readmitted',axis='columns')\n"
   ]
  },
  {
   "cell_type": "code",
   "execution_count": 1091,
   "metadata": {},
   "outputs": [],
   "source": [
    "transformer = make_column_transformer(    #Transforming\n",
    "    (MinMaxScaler(),num_cols),\n",
    "    (OneHotEncoder(),cat_col)\n",
    ")"
   ]
  },
  {
   "cell_type": "code",
   "execution_count": 1092,
   "metadata": {},
   "outputs": [
    {
     "data": {
      "text/html": [
       "<div>\n",
       "<style scoped>\n",
       "    .dataframe tbody tr th:only-of-type {\n",
       "        vertical-align: middle;\n",
       "    }\n",
       "\n",
       "    .dataframe tbody tr th {\n",
       "        vertical-align: top;\n",
       "    }\n",
       "\n",
       "    .dataframe thead th {\n",
       "        text-align: right;\n",
       "    }\n",
       "</style>\n",
       "<table border=\"1\" class=\"dataframe\">\n",
       "  <thead>\n",
       "    <tr style=\"text-align: right;\">\n",
       "      <th></th>\n",
       "      <th>readmitted</th>\n",
       "    </tr>\n",
       "  </thead>\n",
       "  <tbody>\n",
       "    <tr>\n",
       "      <th>0</th>\n",
       "      <td>2</td>\n",
       "    </tr>\n",
       "    <tr>\n",
       "      <th>1</th>\n",
       "      <td>0</td>\n",
       "    </tr>\n",
       "    <tr>\n",
       "      <th>2</th>\n",
       "      <td>2</td>\n",
       "    </tr>\n",
       "    <tr>\n",
       "      <th>3</th>\n",
       "      <td>2</td>\n",
       "    </tr>\n",
       "    <tr>\n",
       "      <th>4</th>\n",
       "      <td>2</td>\n",
       "    </tr>\n",
       "    <tr>\n",
       "      <th>...</th>\n",
       "      <td>...</td>\n",
       "    </tr>\n",
       "    <tr>\n",
       "      <th>101761</th>\n",
       "      <td>0</td>\n",
       "    </tr>\n",
       "    <tr>\n",
       "      <th>101762</th>\n",
       "      <td>2</td>\n",
       "    </tr>\n",
       "    <tr>\n",
       "      <th>101763</th>\n",
       "      <td>2</td>\n",
       "    </tr>\n",
       "    <tr>\n",
       "      <th>101764</th>\n",
       "      <td>2</td>\n",
       "    </tr>\n",
       "    <tr>\n",
       "      <th>101765</th>\n",
       "      <td>2</td>\n",
       "    </tr>\n",
       "  </tbody>\n",
       "</table>\n",
       "<p>101766 rows × 1 columns</p>\n",
       "</div>"
      ],
      "text/plain": [
       "        readmitted\n",
       "0                2\n",
       "1                0\n",
       "2                2\n",
       "3                2\n",
       "4                2\n",
       "...            ...\n",
       "101761           0\n",
       "101762           2\n",
       "101763           2\n",
       "101764           2\n",
       "101765           2\n",
       "\n",
       "[101766 rows x 1 columns]"
      ]
     },
     "execution_count": 1092,
     "metadata": {},
     "output_type": "execute_result"
    }
   ],
   "source": [
    "ydroplist=num_cols+cat_col\n",
    "y=ds.drop(ydroplist,axis='columns')\n",
    "y"
   ]
  },
  {
   "cell_type": "code",
   "execution_count": 1093,
   "metadata": {},
   "outputs": [],
   "source": [
    "\n",
    "transformer1=make_column_transformer(\n",
    "    (OneHotEncoder(),['readmitted'])\n",
    ")\n",
    "transformer1.fit(y)\n",
    "y=transformer1.transform(y)"
   ]
  },
  {
   "cell_type": "code",
   "execution_count": 1094,
   "metadata": {},
   "outputs": [
    {
     "data": {
      "text/plain": [
       "ColumnTransformer(transformers=[('minmaxscaler', MinMaxScaler(),\n",
       "                                 ['time_in_hospital', 'num_medications',\n",
       "                                  'number_diagnoses']),\n",
       "                                ('onehotencoder', OneHotEncoder(),\n",
       "                                 ['age', 'metformin', 'chlorpropamide',\n",
       "                                  'glimepiride', 'tolazamide', 'insulin',\n",
       "                                  'race', 'max_glu_serum', 'A1Cresult',\n",
       "                                  'admission_type_id',\n",
       "                                  'admission_source_id'])])"
      ]
     },
     "execution_count": 1094,
     "metadata": {},
     "output_type": "execute_result"
    }
   ],
   "source": [
    "transformer.fit(X)"
   ]
  },
  {
   "cell_type": "code",
   "execution_count": 1095,
   "metadata": {},
   "outputs": [],
   "source": [
    "X=transformer.transform(X)"
   ]
  },
  {
   "cell_type": "code",
   "execution_count": 1096,
   "metadata": {},
   "outputs": [],
   "source": [
    "#X=transformer.transform(X)"
   ]
  },
  {
   "cell_type": "code",
   "execution_count": 1097,
   "metadata": {},
   "outputs": [
    {
     "data": {
      "text/plain": [
       "0         2\n",
       "1         0\n",
       "2         2\n",
       "3         2\n",
       "4         2\n",
       "         ..\n",
       "101761    0\n",
       "101762    2\n",
       "101763    2\n",
       "101764    2\n",
       "101765    2\n",
       "Name: readmitted, Length: 101766, dtype: int64"
      ]
     },
     "execution_count": 1097,
     "metadata": {},
     "output_type": "execute_result"
    }
   ],
   "source": [
    "ds.readmitted"
   ]
  },
  {
   "cell_type": "code",
   "execution_count": 1098,
   "metadata": {},
   "outputs": [],
   "source": [
    "from sklearn.model_selection import train_test_split\n",
    "x_train,x_test,y_train,y_test=train_test_split(X,y,test_size=0.2,random_state=0)"
   ]
  },
  {
   "cell_type": "code",
   "execution_count": 1099,
   "metadata": {},
   "outputs": [],
   "source": [
    "from keras.models import Sequential\n",
    "from keras.layers import Dense\n",
    "model=Sequential()"
   ]
  },
  {
   "cell_type": "code",
   "execution_count": 1100,
   "metadata": {},
   "outputs": [],
   "source": [
    "model.add(Dense(input_dim=71,activation='relu',units=60, kernel_initializer='random_uniform')) #Input Layer\n"
   ]
  },
  {
   "cell_type": "code",
   "execution_count": 1101,
   "metadata": {},
   "outputs": [],
   "source": [
    "for i in range(4):\n",
    "    model.add(Dense(activation='relu',units=60, kernel_initializer='random_uniform')) #Hidden Layer"
   ]
  },
  {
   "cell_type": "code",
   "execution_count": 1102,
   "metadata": {},
   "outputs": [],
   "source": [
    "model.add(Dense(activation='softmax',units=3,kernel_initializer='random_uniform')) #Output Layer"
   ]
  },
  {
   "cell_type": "code",
   "execution_count": 1103,
   "metadata": {},
   "outputs": [],
   "source": [
    "model.compile(optimizer='adam', loss='categorical_crossentropy',metrics=['accuracy']) #adam=batch g"
   ]
  },
  {
   "cell_type": "code",
   "execution_count": 1104,
   "metadata": {},
   "outputs": [
    {
     "name": "stdout",
     "output_type": "stream",
     "text": [
      "Epoch 1/2\n",
      "2545/2545 [==============================] - 6s 2ms/step - loss: 0.9402 - accuracy: 0.5387\n",
      "Epoch 2/2\n",
      "2545/2545 [==============================] - 8s 3ms/step - loss: 0.9314 - accuracy: 0.5395\n"
     ]
    },
    {
     "data": {
      "text/plain": [
       "<tensorflow.python.keras.callbacks.History at 0x7fccbf4191c0>"
      ]
     },
     "execution_count": 1104,
     "metadata": {},
     "output_type": "execute_result"
    }
   ],
   "source": [
    "model.fit(x_train,y_train,epochs=2,batch_size=32)"
   ]
  },
  {
   "cell_type": "code",
   "execution_count": 1105,
   "metadata": {},
   "outputs": [
    {
     "data": {
      "text/plain": [
       "(81412, 71)"
      ]
     },
     "execution_count": 1105,
     "metadata": {},
     "output_type": "execute_result"
    }
   ],
   "source": [
    "x_train.shape"
   ]
  },
  {
   "cell_type": "code",
   "execution_count": 1106,
   "metadata": {},
   "outputs": [],
   "source": [
    "import joblib\n",
    "joblib.dump(transformer, \"data_transformer.joblib\")\n",
    "model.save(\"price_prediction_model.h5\")"
   ]
  },
  {
   "cell_type": "code",
   "execution_count": 1107,
   "metadata": {},
   "outputs": [],
   "source": [
    "# Why was this line wrong? from tensorflow import keras.models.load_model\n",
    "from tensorflow import keras\n",
    "model = keras.models.load_model(\"price_prediction_model.h5\")\n",
    "transformer = joblib.load(\"data_transformer.joblib\")"
   ]
  },
  {
   "cell_type": "code",
   "execution_count": 1108,
   "metadata": {},
   "outputs": [
    {
     "data": {
      "text/plain": [
       "Index(['age', 'time_in_hospital', 'num_medications', 'number_diagnoses',\n",
       "       'metformin', 'chlorpropamide', 'glimepiride', 'tolazamide', 'insulin',\n",
       "       'race', 'admission_type_id', 'admission_source_id', 'max_glu_serum',\n",
       "       'A1Cresult', 'readmitted'],\n",
       "      dtype='object')"
      ]
     },
     "execution_count": 1108,
     "metadata": {},
     "output_type": "execute_result"
    }
   ],
   "source": [
    "ds.columns"
   ]
  },
  {
   "cell_type": "code",
   "execution_count": 1109,
   "metadata": {},
   "outputs": [
    {
     "data": {
      "text/html": [
       "<div>\n",
       "<style scoped>\n",
       "    .dataframe tbody tr th:only-of-type {\n",
       "        vertical-align: middle;\n",
       "    }\n",
       "\n",
       "    .dataframe tbody tr th {\n",
       "        vertical-align: top;\n",
       "    }\n",
       "\n",
       "    .dataframe thead th {\n",
       "        text-align: right;\n",
       "    }\n",
       "</style>\n",
       "<table border=\"1\" class=\"dataframe\">\n",
       "  <thead>\n",
       "    <tr style=\"text-align: right;\">\n",
       "      <th></th>\n",
       "      <th>age</th>\n",
       "      <th>time_in_hospital</th>\n",
       "      <th>num_medications</th>\n",
       "      <th>number_diagnoses</th>\n",
       "      <th>metformin</th>\n",
       "      <th>chlorpropamide</th>\n",
       "      <th>glimepiride</th>\n",
       "      <th>tolazamide</th>\n",
       "      <th>insulin</th>\n",
       "      <th>race</th>\n",
       "      <th>admission_type_id</th>\n",
       "      <th>admission_source_id</th>\n",
       "      <th>max_glu_serum</th>\n",
       "      <th>A1Cresult</th>\n",
       "    </tr>\n",
       "  </thead>\n",
       "  <tbody>\n",
       "    <tr>\n",
       "      <th>0</th>\n",
       "      <td>70-80</td>\n",
       "      <td>3</td>\n",
       "      <td>16</td>\n",
       "      <td>9</td>\n",
       "      <td>Steady</td>\n",
       "      <td>No</td>\n",
       "      <td>No</td>\n",
       "      <td>No</td>\n",
       "      <td>Down</td>\n",
       "      <td>AfricanAmerican</td>\n",
       "      <td>1</td>\n",
       "      <td>7</td>\n",
       "      <td>None</td>\n",
       "      <td>None</td>\n",
       "    </tr>\n",
       "  </tbody>\n",
       "</table>\n",
       "</div>"
      ],
      "text/plain": [
       "     age  time_in_hospital  num_medications  number_diagnoses metformin  \\\n",
       "0  70-80                 3               16                 9    Steady   \n",
       "\n",
       "  chlorpropamide glimepiride tolazamide insulin             race  \\\n",
       "0             No          No         No    Down  AfricanAmerican   \n",
       "\n",
       "   admission_type_id  admission_source_id max_glu_serum A1Cresult  \n",
       "0                  1                    7          None      None  "
      ]
     },
     "execution_count": 1109,
     "metadata": {},
     "output_type": "execute_result"
    }
   ],
   "source": [
    "newdict={\n",
    "    'age': ['70-80'],\n",
    "    'time_in_hospital': [3],\n",
    "     'num_medications': [16],\n",
    "     'number_diagnoses': [9],\n",
    "     'metformin':['Steady'],\n",
    "     'chlorpropamide':['No'],\n",
    "     'glimepiride':['No'],\n",
    "     'tolazamide':['No'],\n",
    "     'insulin':['Down'],\n",
    "      'race':['AfricanAmerican'],\n",
    "     'admission_type_id':[1],\n",
    "     'admission_source_id':[7],\n",
    "     'max_glu_serum':['None'],\n",
    "    'A1Cresult':['None']\n",
    "}\n",
    "    \n",
    "    \n",
    "newds=pd.DataFrame(newdict)\n",
    "newds\n",
    "    \n",
    "    \n",
    "    \n",
    "    \n",
    "    \n"
   ]
  },
  {
   "cell_type": "code",
   "execution_count": 1110,
   "metadata": {},
   "outputs": [],
   "source": [
    "prediction = model.predict(transformer.transform(newds))"
   ]
  },
  {
   "cell_type": "code",
   "execution_count": 1111,
   "metadata": {},
   "outputs": [
    {
     "name": "stdout",
     "output_type": "stream",
     "text": [
      "[[0.38410878 0.11974689 0.49614432]]\n"
     ]
    }
   ],
   "source": [
    "print(prediction)"
   ]
  },
  {
   "cell_type": "code",
   "execution_count": 1112,
   "metadata": {},
   "outputs": [
    {
     "name": "stdout",
     "output_type": "stream",
     "text": [
      "[2]\n"
     ]
    }
   ],
   "source": [
    "maxElement = np.amax(prediction)\n",
    "maxElement\n",
    "\n",
    "\n",
    "max_index_col = np.argmax(prediction, axis=1) # This is how you do it\n",
    "print(max_index_col)"
   ]
  },
  {
   "cell_type": "code",
   "execution_count": 1113,
   "metadata": {},
   "outputs": [
    {
     "data": {
      "text/html": [
       "<div>\n",
       "<style scoped>\n",
       "    .dataframe tbody tr th:only-of-type {\n",
       "        vertical-align: middle;\n",
       "    }\n",
       "\n",
       "    .dataframe tbody tr th {\n",
       "        vertical-align: top;\n",
       "    }\n",
       "\n",
       "    .dataframe thead th {\n",
       "        text-align: right;\n",
       "    }\n",
       "</style>\n",
       "<table border=\"1\" class=\"dataframe\">\n",
       "  <thead>\n",
       "    <tr style=\"text-align: right;\">\n",
       "      <th></th>\n",
       "      <th>age</th>\n",
       "      <th>time_in_hospital</th>\n",
       "      <th>num_medications</th>\n",
       "      <th>number_diagnoses</th>\n",
       "      <th>metformin</th>\n",
       "      <th>chlorpropamide</th>\n",
       "      <th>glimepiride</th>\n",
       "      <th>tolazamide</th>\n",
       "      <th>insulin</th>\n",
       "      <th>race</th>\n",
       "      <th>admission_type_id</th>\n",
       "      <th>admission_source_id</th>\n",
       "      <th>max_glu_serum</th>\n",
       "      <th>A1Cresult</th>\n",
       "      <th>readmitted</th>\n",
       "    </tr>\n",
       "  </thead>\n",
       "  <tbody>\n",
       "    <tr>\n",
       "      <th>0</th>\n",
       "      <td>0-10</td>\n",
       "      <td>1</td>\n",
       "      <td>1</td>\n",
       "      <td>1</td>\n",
       "      <td>No</td>\n",
       "      <td>No</td>\n",
       "      <td>No</td>\n",
       "      <td>No</td>\n",
       "      <td>No</td>\n",
       "      <td>Caucasian</td>\n",
       "      <td>6</td>\n",
       "      <td>1</td>\n",
       "      <td>None</td>\n",
       "      <td>None</td>\n",
       "      <td>2</td>\n",
       "    </tr>\n",
       "    <tr>\n",
       "      <th>1</th>\n",
       "      <td>10-20</td>\n",
       "      <td>3</td>\n",
       "      <td>18</td>\n",
       "      <td>9</td>\n",
       "      <td>No</td>\n",
       "      <td>No</td>\n",
       "      <td>No</td>\n",
       "      <td>No</td>\n",
       "      <td>Up</td>\n",
       "      <td>Caucasian</td>\n",
       "      <td>1</td>\n",
       "      <td>7</td>\n",
       "      <td>None</td>\n",
       "      <td>None</td>\n",
       "      <td>0</td>\n",
       "    </tr>\n",
       "    <tr>\n",
       "      <th>2</th>\n",
       "      <td>20-30</td>\n",
       "      <td>2</td>\n",
       "      <td>13</td>\n",
       "      <td>6</td>\n",
       "      <td>No</td>\n",
       "      <td>No</td>\n",
       "      <td>No</td>\n",
       "      <td>No</td>\n",
       "      <td>No</td>\n",
       "      <td>AfricanAmerican</td>\n",
       "      <td>1</td>\n",
       "      <td>7</td>\n",
       "      <td>None</td>\n",
       "      <td>None</td>\n",
       "      <td>2</td>\n",
       "    </tr>\n",
       "    <tr>\n",
       "      <th>3</th>\n",
       "      <td>30-40</td>\n",
       "      <td>2</td>\n",
       "      <td>16</td>\n",
       "      <td>7</td>\n",
       "      <td>No</td>\n",
       "      <td>No</td>\n",
       "      <td>No</td>\n",
       "      <td>No</td>\n",
       "      <td>Up</td>\n",
       "      <td>Caucasian</td>\n",
       "      <td>1</td>\n",
       "      <td>7</td>\n",
       "      <td>None</td>\n",
       "      <td>None</td>\n",
       "      <td>2</td>\n",
       "    </tr>\n",
       "    <tr>\n",
       "      <th>4</th>\n",
       "      <td>40-50</td>\n",
       "      <td>1</td>\n",
       "      <td>8</td>\n",
       "      <td>5</td>\n",
       "      <td>No</td>\n",
       "      <td>No</td>\n",
       "      <td>No</td>\n",
       "      <td>No</td>\n",
       "      <td>Steady</td>\n",
       "      <td>Caucasian</td>\n",
       "      <td>1</td>\n",
       "      <td>7</td>\n",
       "      <td>None</td>\n",
       "      <td>None</td>\n",
       "      <td>2</td>\n",
       "    </tr>\n",
       "    <tr>\n",
       "      <th>...</th>\n",
       "      <td>...</td>\n",
       "      <td>...</td>\n",
       "      <td>...</td>\n",
       "      <td>...</td>\n",
       "      <td>...</td>\n",
       "      <td>...</td>\n",
       "      <td>...</td>\n",
       "      <td>...</td>\n",
       "      <td>...</td>\n",
       "      <td>...</td>\n",
       "      <td>...</td>\n",
       "      <td>...</td>\n",
       "      <td>...</td>\n",
       "      <td>...</td>\n",
       "      <td>...</td>\n",
       "    </tr>\n",
       "    <tr>\n",
       "      <th>101761</th>\n",
       "      <td>70-80</td>\n",
       "      <td>3</td>\n",
       "      <td>16</td>\n",
       "      <td>9</td>\n",
       "      <td>Steady</td>\n",
       "      <td>No</td>\n",
       "      <td>No</td>\n",
       "      <td>No</td>\n",
       "      <td>Down</td>\n",
       "      <td>AfricanAmerican</td>\n",
       "      <td>1</td>\n",
       "      <td>7</td>\n",
       "      <td>None</td>\n",
       "      <td>&gt;8</td>\n",
       "      <td>0</td>\n",
       "    </tr>\n",
       "    <tr>\n",
       "      <th>101762</th>\n",
       "      <td>80-90</td>\n",
       "      <td>5</td>\n",
       "      <td>18</td>\n",
       "      <td>9</td>\n",
       "      <td>No</td>\n",
       "      <td>No</td>\n",
       "      <td>No</td>\n",
       "      <td>No</td>\n",
       "      <td>Steady</td>\n",
       "      <td>AfricanAmerican</td>\n",
       "      <td>1</td>\n",
       "      <td>5</td>\n",
       "      <td>None</td>\n",
       "      <td>None</td>\n",
       "      <td>2</td>\n",
       "    </tr>\n",
       "    <tr>\n",
       "      <th>101763</th>\n",
       "      <td>70-80</td>\n",
       "      <td>1</td>\n",
       "      <td>9</td>\n",
       "      <td>13</td>\n",
       "      <td>Steady</td>\n",
       "      <td>No</td>\n",
       "      <td>No</td>\n",
       "      <td>No</td>\n",
       "      <td>Down</td>\n",
       "      <td>Caucasian</td>\n",
       "      <td>1</td>\n",
       "      <td>7</td>\n",
       "      <td>None</td>\n",
       "      <td>None</td>\n",
       "      <td>2</td>\n",
       "    </tr>\n",
       "    <tr>\n",
       "      <th>101764</th>\n",
       "      <td>80-90</td>\n",
       "      <td>10</td>\n",
       "      <td>21</td>\n",
       "      <td>9</td>\n",
       "      <td>No</td>\n",
       "      <td>No</td>\n",
       "      <td>No</td>\n",
       "      <td>No</td>\n",
       "      <td>Up</td>\n",
       "      <td>Caucasian</td>\n",
       "      <td>2</td>\n",
       "      <td>7</td>\n",
       "      <td>None</td>\n",
       "      <td>None</td>\n",
       "      <td>2</td>\n",
       "    </tr>\n",
       "    <tr>\n",
       "      <th>101765</th>\n",
       "      <td>70-80</td>\n",
       "      <td>6</td>\n",
       "      <td>3</td>\n",
       "      <td>9</td>\n",
       "      <td>No</td>\n",
       "      <td>No</td>\n",
       "      <td>No</td>\n",
       "      <td>No</td>\n",
       "      <td>No</td>\n",
       "      <td>Caucasian</td>\n",
       "      <td>1</td>\n",
       "      <td>7</td>\n",
       "      <td>None</td>\n",
       "      <td>None</td>\n",
       "      <td>2</td>\n",
       "    </tr>\n",
       "  </tbody>\n",
       "</table>\n",
       "<p>101766 rows × 15 columns</p>\n",
       "</div>"
      ],
      "text/plain": [
       "          age  time_in_hospital  num_medications  number_diagnoses metformin  \\\n",
       "0        0-10                 1                1                 1        No   \n",
       "1       10-20                 3               18                 9        No   \n",
       "2       20-30                 2               13                 6        No   \n",
       "3       30-40                 2               16                 7        No   \n",
       "4       40-50                 1                8                 5        No   \n",
       "...       ...               ...              ...               ...       ...   \n",
       "101761  70-80                 3               16                 9    Steady   \n",
       "101762  80-90                 5               18                 9        No   \n",
       "101763  70-80                 1                9                13    Steady   \n",
       "101764  80-90                10               21                 9        No   \n",
       "101765  70-80                 6                3                 9        No   \n",
       "\n",
       "       chlorpropamide glimepiride tolazamide insulin             race  \\\n",
       "0                  No          No         No      No        Caucasian   \n",
       "1                  No          No         No      Up        Caucasian   \n",
       "2                  No          No         No      No  AfricanAmerican   \n",
       "3                  No          No         No      Up        Caucasian   \n",
       "4                  No          No         No  Steady        Caucasian   \n",
       "...               ...         ...        ...     ...              ...   \n",
       "101761             No          No         No    Down  AfricanAmerican   \n",
       "101762             No          No         No  Steady  AfricanAmerican   \n",
       "101763             No          No         No    Down        Caucasian   \n",
       "101764             No          No         No      Up        Caucasian   \n",
       "101765             No          No         No      No        Caucasian   \n",
       "\n",
       "        admission_type_id  admission_source_id max_glu_serum A1Cresult  \\\n",
       "0                       6                    1          None      None   \n",
       "1                       1                    7          None      None   \n",
       "2                       1                    7          None      None   \n",
       "3                       1                    7          None      None   \n",
       "4                       1                    7          None      None   \n",
       "...                   ...                  ...           ...       ...   \n",
       "101761                  1                    7          None        >8   \n",
       "101762                  1                    5          None      None   \n",
       "101763                  1                    7          None      None   \n",
       "101764                  2                    7          None      None   \n",
       "101765                  1                    7          None      None   \n",
       "\n",
       "        readmitted  \n",
       "0                2  \n",
       "1                0  \n",
       "2                2  \n",
       "3                2  \n",
       "4                2  \n",
       "...            ...  \n",
       "101761           0  \n",
       "101762           2  \n",
       "101763           2  \n",
       "101764           2  \n",
       "101765           2  \n",
       "\n",
       "[101766 rows x 15 columns]"
      ]
     },
     "execution_count": 1113,
     "metadata": {},
     "output_type": "execute_result"
    }
   ],
   "source": [
    "ds"
   ]
  },
  {
   "cell_type": "code",
   "execution_count": 1114,
   "metadata": {},
   "outputs": [
    {
     "name": "stdout",
     "output_type": "stream",
     "text": [
      "(0, dtype('O'))\n",
      "(1, dtype('int64'))\n",
      "(2, dtype('int64'))\n",
      "(3, dtype('int64'))\n",
      "(4, dtype('O'))\n",
      "(5, dtype('O'))\n",
      "(6, dtype('O'))\n",
      "(7, dtype('O'))\n",
      "(8, dtype('O'))\n",
      "(9, dtype('O'))\n",
      "(10, dtype('int64'))\n",
      "(11, dtype('int64'))\n",
      "(12, dtype('O'))\n",
      "(13, dtype('O'))\n"
     ]
    }
   ],
   "source": [
    "for n in enumerate(newds.dtypes):\n",
    "    print(n)"
   ]
  },
  {
   "cell_type": "code",
   "execution_count": 1115,
   "metadata": {},
   "outputs": [
    {
     "data": {
      "text/plain": [
       "None    1\n",
       "Name: A1Cresult, dtype: int64"
      ]
     },
     "execution_count": 1115,
     "metadata": {},
     "output_type": "execute_result"
    }
   ],
   "source": [
    "newds['A1Cresult'].value_counts()"
   ]
  },
  {
   "cell_type": "code",
   "execution_count": 1116,
   "metadata": {},
   "outputs": [
    {
     "data": {
      "text/plain": [
       "age                    object\n",
       "time_in_hospital        int64\n",
       "num_medications         int64\n",
       "number_diagnoses        int64\n",
       "metformin              object\n",
       "chlorpropamide         object\n",
       "glimepiride            object\n",
       "tolazamide             object\n",
       "insulin                object\n",
       "race                   object\n",
       "admission_type_id       int64\n",
       "admission_source_id     int64\n",
       "max_glu_serum          object\n",
       "A1Cresult              object\n",
       "readmitted              int64\n",
       "dtype: object"
      ]
     },
     "execution_count": 1116,
     "metadata": {},
     "output_type": "execute_result"
    }
   ],
   "source": [
    "ds.dtypes"
   ]
  },
  {
   "cell_type": "code",
   "execution_count": null,
   "metadata": {},
   "outputs": [],
   "source": []
  }
 ],
 "metadata": {
  "kernelspec": {
   "display_name": "Python 3",
   "language": "python",
   "name": "python3"
  },
  "language_info": {
   "codemirror_mode": {
    "name": "ipython",
    "version": 3
   },
   "file_extension": ".py",
   "mimetype": "text/x-python",
   "name": "python",
   "nbconvert_exporter": "python",
   "pygments_lexer": "ipython3",
   "version": "3.8.1"
  }
 },
 "nbformat": 4,
 "nbformat_minor": 4
}
